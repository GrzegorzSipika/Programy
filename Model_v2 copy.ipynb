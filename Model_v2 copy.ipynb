{
 "cells": [
  {
   "cell_type": "code",
   "execution_count": 1,
   "metadata": {},
   "outputs": [
    {
     "name": "stdout",
     "output_type": "stream",
     "text": [
      "WARNING:tensorflow:From c:\\Users\\krukd\\anaconda3\\envs\\magisterka_grzechu\\Lib\\site-packages\\keras\\src\\losses.py:2976: The name tf.losses.sparse_softmax_cross_entropy is deprecated. Please use tf.compat.v1.losses.sparse_softmax_cross_entropy instead.\n",
      "\n"
     ]
    }
   ],
   "source": [
    "import os\n",
    "import keras\n",
    "from keras.applications.resnet50 import ResNet50\n",
    "from keras.applications.resnet50 import preprocess_input, decode_predictions\n",
    "import numpy as np\n",
    "from skimage import transform \n",
    "\n",
    "from PIL import Image\n",
    "\n",
    "import keras as K"
   ]
  },
  {
   "cell_type": "code",
   "execution_count": 2,
   "metadata": {},
   "outputs": [],
   "source": [
    "main_folder = r'.\\Skany'\n",
    "\n",
    "images_dict = {}\n",
    "labels_dict = {}\n",
    "\n",
    "images_list_arrays = []\n",
    "label_list_arrays = []\n",
    "\n",
    "for subfolder in os.listdir(main_folder):   \n",
    "    subfolder_path = os.path.join(main_folder, subfolder)\n",
    "\n",
    "    for folder in os.listdir(subfolder_path):\n",
    "        folder_path = os.path.join(subfolder_path, folder)\n",
    "\n",
    "        if (folder_path[-4:]) == '.txt':\n",
    "            f = open(folder_path, \"r\", encoding='ISO-8859-2')\n",
    "            label = int(f.readlines()[1][7]) - 1\n",
    "        elif (folder_path[-4:]) == '.jpg':\n",
    "            continue\n",
    "        else:\n",
    "            images_list = []\n",
    "            for image_path in os.listdir(folder_path):\n",
    "                with Image.open(os.path.join(folder_path, image_path)) as img:\n",
    "                    img = img.convert('RGB')\n",
    "                    img = transform.resize(np.array(img), (224, 224), anti_aliasing=False)\n",
    "                    images_list.append(img)\n",
    "\n",
    "\n",
    "            #print(folder_path.split('\\\\')[-1], np.concatenate(images_list).shape)\n",
    "            if np.concatenate(images_list).shape != (1792, 224, 3):\n",
    "                pass\n",
    "            else:\n",
    "                images_dict[folder_path.split('\\\\')[-1]] = np.concatenate(images_list)\n",
    "                images_list_arrays.append(np.concatenate(images_list))\n",
    "\n",
    "\n",
    "                labels_dict[folder_path.split('\\\\')[-1]] = label\n",
    "                label_list_arrays.append(label)\n"
   ]
  },
  {
   "cell_type": "code",
   "execution_count": 3,
   "metadata": {},
   "outputs": [],
   "source": [
    "# main_folder = r'.\\Skany'\n",
    "\n",
    "# images_dict = {}\n",
    "# labels_dict = {}\n",
    "\n",
    "# images_list_arrays = []\n",
    "# label_list_arrays = []\n",
    "\n",
    "# for subfolder in os.listdir(main_folder):   \n",
    "#     subfolder_path = os.path.join(main_folder, subfolder)\n",
    "\n",
    "#     for folder in os.listdir(subfolder_path):\n",
    "#         folder_path = os.path.join(subfolder_path, folder)\n",
    "\n",
    "#         if (folder_path[-4:]) == '.txt':\n",
    "#             f = open(folder_path, \"r\", encoding='ISO-8859-2')\n",
    "#             label = int(f.readlines()[1][7]) - 1\n",
    "#         elif (folder_path[-4:]) == '.jpg':\n",
    "#             continue\n",
    "#         else:\n",
    "#             images_list = []\n",
    "#             for image_path in os.listdir(folder_path):\n",
    "#                 with Image.open(os.path.join(folder_path, image_path)) as img:\n",
    "#                     img = img.convert('RGB')\n",
    "#                     img = transform.resize(np.array(img), (224, 224), anti_aliasing=False)\n",
    "#                     images_list.append(img)\n",
    "#                 break\n",
    "\n",
    "#             images_dict[folder_path.split('\\\\')[-1]] = (img)\n",
    "#             images_list_arrays.append((img))\n",
    "\n",
    "\n",
    "#             labels_dict[folder_path.split('\\\\')[-1]] = label\n",
    "#             label_list_arrays.append(label)\n"
   ]
  },
  {
   "cell_type": "code",
   "execution_count": 4,
   "metadata": {},
   "outputs": [],
   "source": [
    "# images_dict[folder_path.split('\\\\')[-1]] = np.concatenate(images_list)\n",
    "#             images_list_arrays.append(np.concatenate(images_list))\n"
   ]
  },
  {
   "cell_type": "code",
   "execution_count": 5,
   "metadata": {},
   "outputs": [
    {
     "data": {
      "text/plain": [
       "120"
      ]
     },
     "execution_count": 5,
     "metadata": {},
     "output_type": "execute_result"
    }
   ],
   "source": [
    "len(images_list_arrays)"
   ]
  },
  {
   "cell_type": "code",
   "execution_count": 6,
   "metadata": {},
   "outputs": [],
   "source": [
    "numpy_images = np.stack(images_list_arrays, axis = 0)\n",
    "numpy_labels = np.stack(label_list_arrays, axis = 0)\n"
   ]
  },
  {
   "cell_type": "code",
   "execution_count": 7,
   "metadata": {},
   "outputs": [],
   "source": [
    "numpy_labels = numpy_labels.reshape((numpy_labels.shape[0], 1))"
   ]
  },
  {
   "cell_type": "code",
   "execution_count": 8,
   "metadata": {},
   "outputs": [
    {
     "name": "stdout",
     "output_type": "stream",
     "text": [
      "WARNING:tensorflow:From c:\\Users\\krukd\\anaconda3\\envs\\magisterka_grzechu\\Lib\\site-packages\\keras\\src\\backend.py:1398: The name tf.executing_eagerly_outside_functions is deprecated. Please use tf.compat.v1.executing_eagerly_outside_functions instead.\n",
      "\n"
     ]
    }
   ],
   "source": [
    "###########\n",
    "\n",
    "num_of_classes = 5\n",
    "\n",
    "input_t = K.Input(shape = (numpy_images.shape[1], numpy_images.shape[2], 3))\n",
    "\n",
    "###########"
   ]
  },
  {
   "cell_type": "markdown",
   "metadata": {},
   "source": [
    "czy ten układ 1792, 224, 3 (224x224 8 obrazków najebanych na kupe) jest sensowny?"
   ]
  },
  {
   "cell_type": "code",
   "execution_count": 9,
   "metadata": {},
   "outputs": [
    {
     "data": {
      "text/plain": [
       "((120, 1792, 224, 3), (120, 1))"
      ]
     },
     "execution_count": 9,
     "metadata": {},
     "output_type": "execute_result"
    }
   ],
   "source": [
    "numpy_images.shape, numpy_labels.shape"
   ]
  },
  {
   "cell_type": "code",
   "execution_count": 10,
   "metadata": {},
   "outputs": [
    {
     "data": {
      "text/plain": [
       "(120, 1)"
      ]
     },
     "execution_count": 10,
     "metadata": {},
     "output_type": "execute_result"
    }
   ],
   "source": [
    "numpy_labels.shape"
   ]
  },
  {
   "cell_type": "code",
   "execution_count": 11,
   "metadata": {},
   "outputs": [],
   "source": [
    "x= preprocess_input(numpy_images)\n"
   ]
  },
  {
   "cell_type": "code",
   "execution_count": 12,
   "metadata": {},
   "outputs": [
    {
     "data": {
      "text/plain": [
       "(120, 1792, 224, 3)"
      ]
     },
     "execution_count": 12,
     "metadata": {},
     "output_type": "execute_result"
    }
   ],
   "source": [
    "x.shape"
   ]
  },
  {
   "cell_type": "code",
   "execution_count": 13,
   "metadata": {},
   "outputs": [],
   "source": [
    "# numpy_images = np.transpose(numpy_images, (0, 3, 1, 2))"
   ]
  },
  {
   "cell_type": "code",
   "execution_count": 14,
   "metadata": {},
   "outputs": [
    {
     "data": {
      "text/plain": [
       "(120, 1792, 224, 3)"
      ]
     },
     "execution_count": 14,
     "metadata": {},
     "output_type": "execute_result"
    }
   ],
   "source": [
    "numpy_images.shape"
   ]
  },
  {
   "cell_type": "code",
   "execution_count": 15,
   "metadata": {},
   "outputs": [],
   "source": [
    "from tensorflow.keras.layers import Flatten, Dense, GlobalAveragePooling2D\n",
    "\n"
   ]
  },
  {
   "cell_type": "code",
   "execution_count": 16,
   "metadata": {},
   "outputs": [
    {
     "name": "stdout",
     "output_type": "stream",
     "text": [
      "WARNING:tensorflow:From c:\\Users\\krukd\\anaconda3\\envs\\magisterka_grzechu\\Lib\\site-packages\\keras\\src\\layers\\normalization\\batch_normalization.py:979: The name tf.nn.fused_batch_norm is deprecated. Please use tf.compat.v1.nn.fused_batch_norm instead.\n",
      "\n"
     ]
    }
   ],
   "source": [
    "res_model = keras.applications.ResNet50(\n",
    "    include_top=False,\n",
    "    weights=\"imagenet\",\n",
    "    input_tensor=input_t,\n",
    "    classes=num_of_classes,\n",
    "    pooling = 'avg',\n",
    "    classifier_activation=\"softmax\",\n",
    ")\n"
   ]
  },
  {
   "cell_type": "markdown",
   "metadata": {},
   "source": [
    "można sprawdzić czy nie będzie lepiej działać jak utniemy więcej warst (jak tu jest ze 150 to zamiast zostawiać wszsytkie 150, to zostawimy pierwsze x)"
   ]
  },
  {
   "cell_type": "code",
   "execution_count": 17,
   "metadata": {},
   "outputs": [],
   "source": [
    "for layer in res_model.layers:\n",
    "    layer.trainable = False"
   ]
  },
  {
   "cell_type": "code",
   "execution_count": 18,
   "metadata": {},
   "outputs": [],
   "source": [
    "from tensorflow.keras.utils import to_categorical"
   ]
  },
  {
   "cell_type": "code",
   "execution_count": 19,
   "metadata": {},
   "outputs": [],
   "source": [
    "y = to_categorical(numpy_labels, num_of_classes)"
   ]
  },
  {
   "cell_type": "code",
   "execution_count": 20,
   "metadata": {},
   "outputs": [
    {
     "data": {
      "text/plain": [
       "(120, 1)"
      ]
     },
     "execution_count": 20,
     "metadata": {},
     "output_type": "execute_result"
    }
   ],
   "source": [
    "numpy_labels.shape"
   ]
  },
  {
   "cell_type": "code",
   "execution_count": 26,
   "metadata": {},
   "outputs": [],
   "source": [
    "from tensorflow.keras.metrics import categorical_crossentropy, CategoricalAccuracy"
   ]
  },
  {
   "cell_type": "markdown",
   "metadata": {},
   "source": [
    "czy my nie chcemy tutaj dodać może jakiejś swojej ekstra warstwy?"
   ]
  },
  {
   "cell_type": "markdown",
   "metadata": {},
   "source": [
    "dobrze by było coś podziałać z dystrybucją - jakieś weighted categorical cross entropy??"
   ]
  },
  {
   "cell_type": "code",
   "execution_count": 27,
   "metadata": {},
   "outputs": [
    {
     "name": "stdout",
     "output_type": "stream",
     "text": [
      "Epoch 1/5\n",
      "8/8 [==============================] - 41s 5s/step - loss: 1.4270 - categorical_accuracy: 0.3583\n",
      "Epoch 2/5\n",
      "8/8 [==============================] - 37s 5s/step - loss: 1.3072 - categorical_accuracy: 0.3333\n",
      "Epoch 3/5\n",
      "8/8 [==============================] - 36s 4s/step - loss: 1.2848 - categorical_accuracy: 0.4000\n",
      "Epoch 4/5\n",
      "8/8 [==============================] - 36s 4s/step - loss: 1.2774 - categorical_accuracy: 0.4000\n",
      "Epoch 5/5\n",
      "8/8 [==============================] - 35s 4s/step - loss: 1.2900 - categorical_accuracy: 0.3500\n"
     ]
    },
    {
     "data": {
      "text/plain": [
       "<keras.src.callbacks.History at 0x1b8c27a9e50>"
      ]
     },
     "execution_count": 27,
     "metadata": {},
     "output_type": "execute_result"
    }
   ],
   "source": [
    "model = K.models.Sequential()\n",
    "model.add(res_model)\n",
    "model.add(K.layers.Flatten())\n",
    "model.add(K.layers.Dense(num_of_classes, activation='softmax'))\n",
    "\n",
    "model.compile(optimizer=keras.optimizers.Adam(),  # Very low learning rate\n",
    "              loss=\"categorical_crossentropy\",\n",
    "              metrics=[CategoricalAccuracy()])\n",
    "\n",
    "# Train end-to-end. Be careful to stop before you overfit!\n",
    "model.fit(x=x, y=y, batch_size = 16, epochs=5)\n"
   ]
  },
  {
   "cell_type": "code",
   "execution_count": 28,
   "metadata": {},
   "outputs": [
    {
     "name": "stdout",
     "output_type": "stream",
     "text": [
      "4/4 [==============================] - 36s 9s/step - loss: 1.2567 - categorical_accuracy: 0.4250\n"
     ]
    },
    {
     "data": {
      "text/plain": [
       "[1.2567368745803833, 0.42500001192092896]"
      ]
     },
     "execution_count": 28,
     "metadata": {},
     "output_type": "execute_result"
    }
   ],
   "source": [
    "model.evaluate(x=x, y=y)\n"
   ]
  }
 ],
 "metadata": {
  "kernelspec": {
   "display_name": "Python 3",
   "language": "python",
   "name": "python3"
  },
  "language_info": {
   "codemirror_mode": {
    "name": "ipython",
    "version": 3
   },
   "file_extension": ".py",
   "mimetype": "text/x-python",
   "name": "python",
   "nbconvert_exporter": "python",
   "pygments_lexer": "ipython3",
   "version": "3.11.7"
  }
 },
 "nbformat": 4,
 "nbformat_minor": 2
}

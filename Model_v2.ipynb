{
 "cells": [
  {
   "cell_type": "code",
   "execution_count": 1,
   "metadata": {},
   "outputs": [
    {
     "name": "stdout",
     "output_type": "stream",
     "text": [
      "WARNING:tensorflow:From C:\\Users\\sipik\\AppData\\Local\\Packages\\PythonSoftwareFoundation.Python.3.11_qbz5n2kfra8p0\\LocalCache\\local-packages\\Python311\\site-packages\\keras\\src\\losses.py:2976: The name tf.losses.sparse_softmax_cross_entropy is deprecated. Please use tf.compat.v1.losses.sparse_softmax_cross_entropy instead.\n",
      "\n"
     ]
    }
   ],
   "source": [
    "import os\n",
    "import keras\n",
    "from keras.applications.resnet50 import ResNet50\n",
    "from keras.applications.resnet50 import preprocess_input, decode_predictions\n",
    "import numpy as np\n"
   ]
  },
  {
   "cell_type": "code",
   "execution_count": 10,
   "metadata": {},
   "outputs": [
    {
     "name": "stdout",
     "output_type": "stream",
     "text": [
      "D:/Magisterka/Wyniki ankiet/Skany\\1\n",
      "D:/Magisterka/Wyniki ankiet/Skany\\2\n",
      "D:/Magisterka/Wyniki ankiet/Skany\\3\n"
     ]
    }
   ],
   "source": [
    "\n",
    "\n",
    "main_folder = 'D:/Magisterka/Wyniki ankiet/Skany'\n",
    "\n",
    "\n",
    "model = ResNet50(weights='imagenet')\n",
    "\n",
    "label_images_dict = {}\n",
    "\n",
    "for subfolder in os.listdir(main_folder):   \n",
    "    subfolder_path = os.path.join(main_folder, subfolder)\n",
    "    print(subfolder_path)\n",
    "\n",
    "    for folder in os.listdir(subfolder_path):\n",
    "        \n",
    "        \n",
    "        folder_path = os.path.join(main_folder, folder)\n",
    "        print(folder_path)\n",
    "        if os.path.isdir(subfolder_path) and \"wyniki_ankiety\" in subfolder:\n",
    "\n",
    "            \n",
    "            label_file_path = os.path.join(subfolder_path, f\"wyniki_ankiety_{subfolder}.txt\")\n",
    "            print(label_file_path)\n",
    "            if os.path.exists(label_file_path):\n",
    "                with open(label_file_path, 'r') as label_file:\n",
    "                    label = label_file.read().strip()\n",
    "            else:\n",
    "                print(f\"Warning: Label file not found for {subfolder}\")\n",
    "                continue\n",
    "\n",
    "            image_files = [file for file in os.listdir(subfolder_path) if file.lower().endswith(('.jpg'))]\n",
    "            \n",
    "            print(image_files)\n",
    "\n",
    "            for img_file in image_files:\n",
    "                img_path = os.path.join(subfolder_path, img_file)\n",
    "\n",
    "                img = keras.utils.load_img(img_path, target_size=(224, 224))\n",
    "                print(\"Wymiary obrazu:\", img.size)\n",
    "\n",
    "                x = keras.utils.img_to_array(img)\n",
    "\n",
    "                print(\"Dane przed preprocess_input:\")\n",
    "                print(x)\n",
    "\n",
    "                x = np.expand_dims(x, axis=0)\n",
    "                x = preprocess_input(x)\n",
    "\n",
    "                print(\"Dane po preprocess_input:\")\n",
    "                print(x)\n",
    "\n",
    "                #predictions = model.predict(x)\n",
    "\n",
    "                #decoded_predictions = decode_predictions(predictions, top=3)[0]\n",
    "\n",
    "                # print(f\"Predictions for {img_file} in folder {subfolder} with label {label}:\")\n",
    "                # for i, (imagenet_id, prediction_label, score) in enumerate(decoded_predictions):\n",
    "                #     print(f\"{i + 1}: {prediction_label} ({score:.2f})\")\n",
    "\n",
    "                #     if label not in label_images_dict:\n",
    "                #         label_images_dict[label] = []\n",
    "                #     label_images_dict[label].append(img_file)\n",
    "                # print(\"\\n\")\n",
    "\n",
    "for label, images in label_images_dict.items():\n",
    "    print(f\"{label}: {images}\")\n"
   ]
  }
 ],
 "metadata": {
  "kernelspec": {
   "display_name": "Python 3",
   "language": "python",
   "name": "python3"
  },
  "language_info": {
   "codemirror_mode": {
    "name": "ipython",
    "version": 3
   },
   "file_extension": ".py",
   "mimetype": "text/x-python",
   "name": "python",
   "nbconvert_exporter": "python",
   "pygments_lexer": "ipython3",
   "version": "3.11.7"
  }
 },
 "nbformat": 4,
 "nbformat_minor": 2
}
